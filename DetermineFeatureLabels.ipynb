{
 "cells": [
  {
   "cell_type": "code",
   "execution_count": 1,
   "metadata": {
    "collapsed": false
   },
   "outputs": [],
   "source": [
    "import pandas as pd\n",
    "import numpy as np\n",
    "data = pd.read_csv('SSC.txt', delim_whitespace = True, header=0)"
   ]
  },
  {
   "cell_type": "code",
   "execution_count": 2,
   "metadata": {
    "collapsed": false
   },
   "outputs": [
    {
     "data": {
      "text/html": [
       "<div>\n",
       "<table border=\"1\" class=\"dataframe\">\n",
       "  <thead>\n",
       "    <tr style=\"text-align: right;\">\n",
       "      <th></th>\n",
       "      <th>ImageNumber</th>\n",
       "      <th>ObjectNumber</th>\n",
       "      <th>AreaShape_Area</th>\n",
       "      <th>AreaShape_Center_X</th>\n",
       "      <th>AreaShape_Center_Y</th>\n",
       "      <th>AreaShape_Compactness</th>\n",
       "      <th>AreaShape_Eccentricity</th>\n",
       "      <th>AreaShape_EulerNumber</th>\n",
       "      <th>AreaShape_Extent</th>\n",
       "      <th>AreaShape_FormFactor</th>\n",
       "      <th>...</th>\n",
       "      <th>Texture_SumEntropy_DF_image_3_45</th>\n",
       "      <th>Texture_SumEntropy_DF_image_3_90</th>\n",
       "      <th>Texture_SumVariance_DF_image_3_0</th>\n",
       "      <th>Texture_SumVariance_DF_image_3_135</th>\n",
       "      <th>Texture_SumVariance_DF_image_3_45</th>\n",
       "      <th>Texture_SumVariance_DF_image_3_90</th>\n",
       "      <th>Texture_Variance_DF_image_3_0</th>\n",
       "      <th>Texture_Variance_DF_image_3_135</th>\n",
       "      <th>Texture_Variance_DF_image_3_45</th>\n",
       "      <th>Texture_Variance_DF_image_3_90</th>\n",
       "    </tr>\n",
       "  </thead>\n",
       "  <tbody>\n",
       "    <tr>\n",
       "      <th>0</th>\n",
       "      <td>1</td>\n",
       "      <td>1</td>\n",
       "      <td>3025</td>\n",
       "      <td>0.0</td>\n",
       "      <td>0.0</td>\n",
       "      <td>1.046851</td>\n",
       "      <td>0.0</td>\n",
       "      <td>1.0</td>\n",
       "      <td>1.0</td>\n",
       "      <td>0.785398</td>\n",
       "      <td>...</td>\n",
       "      <td>1.035252</td>\n",
       "      <td>0.964295</td>\n",
       "      <td>3.414692</td>\n",
       "      <td>3.255892</td>\n",
       "      <td>3.174753</td>\n",
       "      <td>3.500574</td>\n",
       "      <td>1.008608</td>\n",
       "      <td>0.907763</td>\n",
       "      <td>1.052238</td>\n",
       "      <td>1.008608</td>\n",
       "    </tr>\n",
       "  </tbody>\n",
       "</table>\n",
       "<p>1 rows × 142 columns</p>\n",
       "</div>"
      ],
      "text/plain": [
       "   ImageNumber  ObjectNumber  AreaShape_Area  AreaShape_Center_X  \\\n",
       "0            1             1            3025                 0.0   \n",
       "\n",
       "   AreaShape_Center_Y  AreaShape_Compactness  AreaShape_Eccentricity  \\\n",
       "0                 0.0               1.046851                     0.0   \n",
       "\n",
       "   AreaShape_EulerNumber  AreaShape_Extent  AreaShape_FormFactor  \\\n",
       "0                    1.0               1.0              0.785398   \n",
       "\n",
       "                ...                Texture_SumEntropy_DF_image_3_45  \\\n",
       "0               ...                                        1.035252   \n",
       "\n",
       "   Texture_SumEntropy_DF_image_3_90  Texture_SumVariance_DF_image_3_0  \\\n",
       "0                          0.964295                          3.414692   \n",
       "\n",
       "   Texture_SumVariance_DF_image_3_135  Texture_SumVariance_DF_image_3_45  \\\n",
       "0                            3.255892                           3.174753   \n",
       "\n",
       "   Texture_SumVariance_DF_image_3_90  Texture_Variance_DF_image_3_0  \\\n",
       "0                           3.500574                       1.008608   \n",
       "\n",
       "   Texture_Variance_DF_image_3_135  Texture_Variance_DF_image_3_45  \\\n",
       "0                         0.907763                        1.052238   \n",
       "\n",
       "   Texture_Variance_DF_image_3_90  \n",
       "0                        1.008608  \n",
       "\n",
       "[1 rows x 142 columns]"
      ]
     },
     "execution_count": 2,
     "metadata": {},
     "output_type": "execute_result"
    }
   ],
   "source": [
    "data.head(1)"
   ]
  },
  {
   "cell_type": "code",
   "execution_count": 3,
   "metadata": {
    "collapsed": false
   },
   "outputs": [
    {
     "name": "stdout",
     "output_type": "stream",
     "text": [
      "[1, 2, 3, 4, 5, 6, 7, 8, 9, 10, 11, 12, 13, 14, 15, 16, 17, 18, 19, 20, 21, 22, 23, 24, 25, 26, 27, 28, 29, 30, 31, 32, 33, 34, 35, 36, 37, 38, 39, 40, 41, 42, 43, 44, 45, 46, 47, 48, 49, 71, 72, 73, 74, 75, 76]\n"
     ]
    }
   ],
   "source": [
    "a = range(1,50)\n",
    "b = range(71, 77)\n",
    "a.extend(b)\n",
    "drop_cols_labels = [0, 1, 11, 22, 23, 24, 25, 26, 27, 28, 29]\n",
    "print a"
   ]
  },
  {
   "cell_type": "code",
   "execution_count": 4,
   "metadata": {
    "collapsed": false
   },
   "outputs": [],
   "source": [
    "data.drop(data.columns[a],axis=1,inplace=True) # leaves 85\n",
    "data.drop(data.columns[drop_cols_labels],axis=1,inplace=True) # leaves 74"
   ]
  },
  {
   "cell_type": "code",
   "execution_count": 5,
   "metadata": {
    "collapsed": false
   },
   "outputs": [
    {
     "data": {
      "text/plain": [
       "(34425, 76)"
      ]
     },
     "execution_count": 5,
     "metadata": {},
     "output_type": "execute_result"
    }
   ],
   "source": [
    "data.shape"
   ]
  },
  {
   "cell_type": "code",
   "execution_count": 7,
   "metadata": {
    "collapsed": false
   },
   "outputs": [],
   "source": [
    "label_list = []\n",
    "label_list.extend(data.columns.values)\n",
    "label_list.extend(data.columns.values)\n",
    "label_list.extend(data.columns.values)\n",
    "label_list.extend(data.columns.values)"
   ]
  },
  {
   "cell_type": "code",
   "execution_count": 11,
   "metadata": {
    "collapsed": false
   },
   "outputs": [
    {
     "name": "stdout",
     "output_type": "stream",
     "text": [
      "304\n",
      "______________________________\n",
      "Most important features Channel 2\n",
      "Texture_InfoMeas1_DF_image_3_135\n",
      "RadialDistribution_RadialCV_DF_image_1of4\n",
      "Texture_Contrast_DF_image_3_135\n",
      "Texture_Contrast_DF_image_3_45\n",
      "Intensity_MeanIntensity_DF_image\n",
      "______________________________\n",
      "Most important features Channel 3\n",
      "Intensity_MeanIntensity_DF_image\n",
      "Granularity_3_DF_image\n",
      "Texture_Correlation_DF_image_3_45\n",
      "Texture_DifferenceEntropy_DF_image_3_45\n",
      "Texture_DifferenceEntropy_DF_image_3_135\n"
     ]
    }
   ],
   "source": [
    "print len(label_list)\n",
    "print \"______________________________\"\n",
    "print \"Most important features Channel 2\"\n",
    "for i in [125, 95, 104, 105, 87]:\n",
    "    print label_list[i]\n",
    "# for i in [86,  93,  82,  88,  94]:\n",
    "print \"______________________________\"\n",
    "print \"Most important features Channel 3\"\n",
    "for i in [163, 153, 185, 189, 188]:\n",
    "# for i in [169, 164, 158, 162, 170]:\n",
    "    print label_list[i]"
   ]
  },
  {
   "cell_type": "markdown",
   "metadata": {},
   "source": [
    "the most important features over all 3 experiments were features [169, 164, 158, 162, 170,  86,  93,  82,  88,  94]\n",
    "\n",
    "Coefs:\n",
    "[ 0.05754665,  0.05437731,  0.05421465, 0.04908937,  0.04729757, 0.03944393,  0.03831731,  0.03304434,  0.03292181,  0.02691715]"
   ]
  },
  {
   "cell_type": "code",
   "execution_count": null,
   "metadata": {
    "collapsed": true
   },
   "outputs": [],
   "source": []
  }
 ],
 "metadata": {
  "anaconda-cloud": {},
  "kernelspec": {
   "display_name": "Python [conda root]",
   "language": "python",
   "name": "conda-root-py"
  },
  "language_info": {
   "codemirror_mode": {
    "name": "ipython",
    "version": 2
   },
   "file_extension": ".py",
   "mimetype": "text/x-python",
   "name": "python",
   "nbconvert_exporter": "python",
   "pygments_lexer": "ipython2",
   "version": "2.7.12"
  }
 },
 "nbformat": 4,
 "nbformat_minor": 2
}
